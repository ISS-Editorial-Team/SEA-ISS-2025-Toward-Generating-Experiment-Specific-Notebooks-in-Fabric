{
 "cells": [
  {
   "cell_type": "markdown",
   "metadata": {},
   "source": [
    "# 9. Conclusion\n",
    "\n",
    "Jupyter Notebooks are widely in use by the scientific community to run experiments and analysis. Though their user-friendly interface is intended to make coding more accessible for researchers in fields outside computation, using application-specific APIs can still be a challenge for many. In this paper, we have presented an overview of a RAG-based AI tool that we built to help users of the NSF FABRIC network testbed. Our results show RAG approaches, in which the user's query is augmented by a vector database of relevant code examples published by the FABRIC development team, combined with pre-trained LLMs can produce usable or nearly usable code for users in most cases. As our tool is built with open-source libraries and uses relatively small LLMs that can be run locally, similar tools can be developed easily for other scientific software even by a small group. "
   ]
  }
 ],
 "metadata": {
  "language_info": {
   "name": "python"
  }
 },
 "nbformat": 4,
 "nbformat_minor": 2
}
