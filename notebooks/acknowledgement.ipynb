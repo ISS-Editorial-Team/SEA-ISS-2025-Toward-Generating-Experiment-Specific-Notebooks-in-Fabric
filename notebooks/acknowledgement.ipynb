{
 "cells": [
  {
   "cell_type": "markdown",
   "metadata": {},
   "source": [
    "# 10. Acknowledgement\n",
    "\n",
    "Special thanks to Komal Thareja for helping us with the test result evaluation and Vikram Gazula for setting up the server and providing the hardware details. This research was supported by the National Science Foundation Awards 1935966 and 2330891 and 2029235."
   ]
  }
 ],
 "metadata": {
  "language_info": {
   "name": "python"
  }
 },
 "nbformat": 4,
 "nbformat_minor": 2
}
