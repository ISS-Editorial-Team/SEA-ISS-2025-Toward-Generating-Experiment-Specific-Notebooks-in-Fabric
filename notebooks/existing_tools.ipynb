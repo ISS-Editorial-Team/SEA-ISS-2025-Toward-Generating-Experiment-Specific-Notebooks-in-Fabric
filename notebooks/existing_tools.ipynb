{
 "cells": [
  {
   "cell_type": "markdown",
   "metadata": {},
   "source": [
    "# 3. Existing Code Generation Tools \n",
    "\n",
    "Auto code generation is an active research area though its success is still limited compared to natural language text generation.  Unlike natural language, code has a  strict logical specification  and a limited syntactical space.  But despite the reduced complexity, even a minor mistake can drastically change the meaning of the code or make it completely invalid.  In an attempt to achieve better results, there have been numerous publications on using LLM+RAG for code generation since RAG has gained in popularity as a lighter and simpler alternative to fine-tuning.  Most such research relies on a relatively large corpus of RAG input data. One study includes not only code samples, but also API documentation and StackOverflow articles. while another has incorporated web search results and execution feedback. In addition, many have resorted to manual input data manipulations, including tagging, and manual filtering, in order to improve the accuracy of generated code. "
   ]
  }
 ],
 "metadata": {
  "language_info": {
   "name": "python"
  }
 },
 "nbformat": 4,
 "nbformat_minor": 2
}
