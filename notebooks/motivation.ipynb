{
 "cells": [
  {
   "cell_type": "markdown",
   "metadata": {},
   "source": [
    "# 2. Motivation\n",
    "\n",
    "Many research domains now utilize Jupyter Notebooks to both write the code that drives their experiments as well as using it as a place to document and display results from their experiments.  As a result there exists a wealth of example Jupyter Notebooks (often in repositories) that experimenters are able to browse or search to find  Notebook code examples to learn from or to use directly.  Users are often looking for Notebooks  that perform tasks identical or similar to what they are trying to do to find code that they can use in their own notebooks. While the set of available Notebook examples often cover a wide variety of use cases, first-time users often run into the difficulty of finding the examples that they can use. Even advanced users experience  challenges.  For example, setting up a complex testing environment often requires combining different sections from numerous Notebook examples, a task that can be time-consuming, error-prone, and hard to trouble-shoot. Another common problem is that Notebooks can get out-of-date with example code that is no longer correct, causing unsuspecting users to use code that is no longer valid.\n"
   ]
  },
  {
   "cell_type": "markdown",
   "metadata": {},
   "source": [
    "(Figure 1: Example FABRIC Notebook)  \n",
    "\n",
    "![notebook_example](images/notebook_example.png)"
   ]
  },
  {
   "cell_type": "markdown",
   "metadata": {},
   "source": [
    "\n"
   ]
  }
 ],
 "metadata": {
  "language_info": {
   "name": "python"
  }
 },
 "nbformat": 4,
 "nbformat_minor": 2
}
