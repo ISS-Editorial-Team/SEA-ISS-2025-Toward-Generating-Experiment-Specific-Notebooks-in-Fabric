{
 "cells": [
  {
   "cell_type": "markdown",
   "metadata": {},
   "source": [
    "# 4. A Code Generation Tool for FABRIC\n",
    "\n",
    "Unlike most RAG code-generation studies noted above, our FABRIC code generation tool is deliberately simple to deploy. Although the quality of input data is always a factor, as will be discussed in a later section, our tool does not require time-consuming manual tagging of input data.  Moreover, the whole pipeline can be implemented using small local LLMs and open-source software and libraries."
   ]
  },
  {
   "cell_type": "markdown",
   "metadata": {},
   "source": [
    "TODO: Figure 2"
   ]
  },
  {
   "cell_type": "markdown",
   "metadata": {},
   "source": [
    "(Figure 3: User Interface 1)\n",
    "![notebook_example](images/GUI_input.png)"
   ]
  },
  {
   "cell_type": "markdown",
   "metadata": {},
   "source": [
    "(Figure 4: User Interface showing Output)\n",
    "![notebook_example](images/GUI_output.png)"
   ]
  },
  {
   "cell_type": "markdown",
   "metadata": {},
   "source": []
  }
 ],
 "metadata": {
  "language_info": {
   "name": "python"
  }
 },
 "nbformat": 4,
 "nbformat_minor": 2
}
