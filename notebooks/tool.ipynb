{
 "cells": [
  {
   "cell_type": "markdown",
   "metadata": {},
   "source": [
    "# 4. A Code Generation Tool for FABRIC\n",
    "\n",
    "Unlike most RAG code-generation studies noted above, our FABRIC code generation tool is deliberately simple to deploy. Although the quality of input data is always a factor, as will be discussed in a later section, our tool does not require time-consuming manual tagging of input data.  Moreover, the whole pipeline can be implemented using small local LLMs and open-source software and libraries. "
   ]
  },
  {
   "cell_type": "markdown",
   "metadata": {},
   "source": [
    "**Figure 2. Architecture**\n",
    "![architecture](images/RAG_architecture.png)"
   ]
  },
  {
   "cell_type": "markdown",
   "metadata": {},
   "source": [
    "1. Chroma vector database is created with current Jupyter examples that are used as a reference.\n",
    "\n",
    "2. User asks for a notebook to be generated.\n",
    "\n",
    "3. User's query is sent to the vector database.\n",
    "\n",
    "4. Small number of documents that are considered relevant to the user's query are returned.\n",
    "\n",
    "5. User's query along with the retrieved documents are sent to an LLM running through Ollama.\n",
    "\n",
    "6. (ONLY IF using GPT-4o-mini) Ollama sends the query along with the retrieved documents to OpenAI using a stored key.\n",
    "\n",
    "7. (ONLY IF using GPT-4o-mini) OpenAI sends response back.\n",
    "\n",
    "8. LLM's response (raw) is sent back.\n",
    "\n",
    "9. LLM's response is parsed and returned to the user via GUI."
   ]
  },
  {
   "cell_type": "markdown",
   "metadata": {},
   "source": [
    "**Figure 3: User Interface 1**\n",
    "![gui_input](images/GUI_input.png)"
   ]
  },
  {
   "cell_type": "markdown",
   "metadata": {},
   "source": [
    "**Figure 4: User Interface showing Output**\n",
    "![gui_output](images/GUI_output.png)"
   ]
  },
  {
   "cell_type": "markdown",
   "metadata": {},
   "source": []
  }
 ],
 "metadata": {
  "language_info": {
   "name": "python"
  }
 },
 "nbformat": 4,
 "nbformat_minor": 2
}
