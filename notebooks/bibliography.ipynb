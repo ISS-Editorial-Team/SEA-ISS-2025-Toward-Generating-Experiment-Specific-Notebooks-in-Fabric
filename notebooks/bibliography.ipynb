{
 "cells": [
  {
   "cell_type": "markdown",
   "metadata": {},
   "source": [
    "# Bibliography\n",
    "\n",
    "```{bibliography}\n",
    "```"
   ]
  }
 ],
 "metadata": {
  "language_info": {
   "name": "python"
  }
 },
 "nbformat": 4,
 "nbformat_minor": 2
}
